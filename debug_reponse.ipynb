{
 "cells": [
  {
   "cell_type": "code",
   "execution_count": 26,
   "id": "initial_id",
   "metadata": {
    "collapsed": true,
    "ExecuteTime": {
     "end_time": "2024-01-14T20:31:43.424929600Z",
     "start_time": "2024-01-14T20:31:43.413902400Z"
    }
   },
   "outputs": [],
   "source": [
    "from src.gpt_vision import get_list_of_items\n",
    "from pathlib import Path\n",
    "import json"
   ]
  },
  {
   "cell_type": "code",
   "execution_count": 2,
   "outputs": [
    {
     "name": "stdout",
     "output_type": "stream",
     "text": [
      "response=<Response [200]>\n",
      "response.json()={'id': 'chatcmpl-8h1HjsNUmM0L5C3VC8sJuVlwtTY1k', 'object': 'chat.completion', 'created': 1705263735, 'model': 'gpt-4-1106-vision-preview', 'usage': {'prompt_tokens': 208, 'completion_tokens': 92, 'total_tokens': 300}, 'choices': [{'message': {'role': 'assistant', 'content': '```json\\n{\\n    \"groceries\": [\\n        \"Kiwi\",\\n        \"Baby spinach\",\\n        \"Baby carrots\",\\n        \"Almond milk\",\\n        \"Pineapples\",\\n        \"Canned chickpeas\",\\n        \"Fresh basil\",\\n        \"Tomato paste\",\\n        \"Raspberries\",\\n        \"Blueberries\",\\n        \"Bananas\",\\n        \"Avocado\",\\n        \"Walnuts\",\\n        \"Dark chocolate\"\\n    ]\\n}\\n```'}, 'finish_reason': 'stop', 'index': 0}]}\n"
     ]
    }
   ],
   "source": [
    "path = Path(\"images/groceries.jpg\")\n",
    "\n",
    "response = get_list_of_items(path)\n",
    "response"
   ],
   "metadata": {
    "collapsed": false,
    "ExecuteTime": {
     "end_time": "2024-01-14T20:22:14.128526Z",
     "start_time": "2024-01-14T20:22:04.830103Z"
    }
   },
   "id": "2d499f830060f780"
  },
  {
   "cell_type": "code",
   "execution_count": 17,
   "outputs": [
    {
     "data": {
      "text/plain": "'```json\\n{\\n    \"groceries\": [\\n        \"Kiwi\",\\n        \"Baby spinach\",\\n        \"Baby carrots\",\\n        \"Almond milk\",\\n        \"Pineapples\",\\n        \"Canned chickpeas\",\\n        \"Fresh basil\",\\n        \"Tomato paste\",\\n        \"Raspberries\",\\n        \"Blueberries\",\\n        \"Bananas\",\\n        \"Avocado\",\\n        \"Walnuts\",\\n        \"Dark chocolate\"\\n    ]\\n}\\n```'"
     },
     "execution_count": 17,
     "metadata": {},
     "output_type": "execute_result"
    }
   ],
   "source": [
    "output = response.json()[\"choices\"][0][\"message\"][\"content\"]\n",
    "output"
   ],
   "metadata": {
    "collapsed": false,
    "ExecuteTime": {
     "end_time": "2024-01-14T20:27:56.128729900Z",
     "start_time": "2024-01-14T20:27:56.111177600Z"
    }
   },
   "id": "62b51c1e1236b412"
  },
  {
   "cell_type": "code",
   "execution_count": 19,
   "outputs": [],
   "source": [
    "cleaned_string_v1 = output.replace(\"```json\\n\", \"\")\n",
    "cleaned_string_v2 = cleaned_string_v1.replace(\"\\n```\", \"\")\n",
    "cleaned_string_v3 = cleaned_string_v2.replace(\"\\n\", \"\")"
   ],
   "metadata": {
    "collapsed": false,
    "ExecuteTime": {
     "end_time": "2024-01-14T20:28:48.215348300Z",
     "start_time": "2024-01-14T20:28:48.198729500Z"
    }
   },
   "id": "66b19b78c1a1589c"
  },
  {
   "cell_type": "code",
   "execution_count": 25,
   "outputs": [
    {
     "name": "stdout",
     "output_type": "stream",
     "text": [
      "{'groceries': ['Kiwi', 'Baby spinach', 'Baby carrots', 'Almond milk', 'Pineapples', 'Canned chickpeas', 'Fresh basil', 'Tomato paste', 'Raspberries', 'Blueberries', 'Bananas', 'Avocado', 'Walnuts', 'Dark chocolate']}\n"
     ]
    }
   ],
   "source": [
    "# Convert the string to a JSON object (Python dictionary)\n",
    "json_object = json.loads(cleaned_string_v2)\n",
    "\n",
    "# Print the JSON object\n",
    "print(json_object)"
   ],
   "metadata": {
    "collapsed": false,
    "ExecuteTime": {
     "end_time": "2024-01-14T20:29:41.499122200Z",
     "start_time": "2024-01-14T20:29:41.494099200Z"
    }
   },
   "id": "ea8cb493e5e192c9"
  }
 ],
 "metadata": {
  "kernelspec": {
   "display_name": "Python 3",
   "language": "python",
   "name": "python3"
  },
  "language_info": {
   "codemirror_mode": {
    "name": "ipython",
    "version": 2
   },
   "file_extension": ".py",
   "mimetype": "text/x-python",
   "name": "python",
   "nbconvert_exporter": "python",
   "pygments_lexer": "ipython2",
   "version": "2.7.6"
  }
 },
 "nbformat": 4,
 "nbformat_minor": 5
}
